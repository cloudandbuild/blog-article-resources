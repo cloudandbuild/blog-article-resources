{
 "cells": [
  {
   "cell_type": "code",
   "execution_count": null,
   "id": "692eecf8-4dab-4178-a0fe-8b74e43336f4",
   "metadata": {
    "tags": [
     "parameters"
    ]
   },
   "outputs": [],
   "source": [
    "s='world'"
   ]
  },
  {
   "cell_type": "code",
   "execution_count": null,
   "id": "0d15bc03",
   "metadata": {},
   "outputs": [],
   "source": [
    "!pwd"
   ]
  },
  {
   "cell_type": "code",
   "execution_count": null,
   "id": "118231ed",
   "metadata": {},
   "outputs": [],
   "source": [
    "import scrapbook as sb"
   ]
  },
  {
   "cell_type": "code",
   "execution_count": null,
   "id": "5fb8f241",
   "metadata": {},
   "outputs": [],
   "source": [
    "result = 'Hello ' + s\n",
    "print(result)"
   ]
  },
  {
   "cell_type": "code",
   "execution_count": null,
   "id": "1e4dfe17",
   "metadata": {},
   "outputs": [],
   "source": [
    "sb.glue(\"result\", {\"msg\": result})"
   ]
  }
 ],
 "metadata": {
  "celltoolbar": "Tags",
  "kernelspec": {
   "display_name": "Python 3 (ipykernel)",
   "language": "python",
   "name": "python3"
  }
 },
 "nbformat": 4,
 "nbformat_minor": 5
}
